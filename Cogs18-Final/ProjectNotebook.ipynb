{
 "cells": [
  {
   "cell_type": "markdown",
   "id": "9ac03011-59da-4c5d-872d-fd0540cd9d4e",
   "metadata": {},
   "source": [
    "# Data Analysis on Randomness in Human Choices\n",
    "\n",
    "## Overview\n",
    "This project analyzes the randomness of choice, by using a dataset of \"random guesses\" inputted by the user. Through this analysis, the project achieves the following:\n",
    "- **Analyze randomness**: Calculate metrics like unique values, most common values, and randomness proportions.\n",
    "- **Human vs. computer comparison**: Compare human-generated randomness with computer-generated randomness.\n",
    "- **Identify patterns**: Combine data to find patterns in human choices.\n",
    "- **Data visualization**: Present findings using static and interactive charts.\n",
    "- **Quantify randomness**: Perform statistical tests (e.g., Chi-Square) to measure the level of randomness.\n",
    "\n",
    "---\n",
    "\n",
    "### Sections\n",
    "1. **Dataset Overview**: Explore and understand the structure of the dataset.\n",
    "2. **Analysis**: Perform calculations to measure randomness metrics.\n",
    "3. **Visualization**: Generate visualizations to represent distributions and patterns.\n",
    "4. **Statistical Testing**: Conduct statistical tests to evaluate randomness.\n",
    "5. **Conclusions**: Summarize findings and insights.\n"
   ]
  },
  {
   "cell_type": "code",
   "execution_count": 1,
   "id": "d0019e67-ef7d-469e-b57d-da7c51f71dbf",
   "metadata": {},
   "outputs": [],
   "source": [
    "# Standard libraries\n",
    "import pandas as pd\n",
    "import numpy as np\n",
    "import matplotlib.pyplot as plt\n",
    "\n",
    "# Import custom modules\n",
    "from my_module.data_processing import generate_random_dataset, load_dataset\n",
    "from my_module.analysis import calculate_metrics, perform_clustering\n",
    "from my_module.visualization import plot_response_distribution\n",
    "from my_module.testing import perform_chi_square_test"
   ]
  },
  {
   "cell_type": "markdown",
   "id": "b98cd889-5761-4c66-a904-b685ae7cf565",
   "metadata": {},
   "source": [
    "## Libraries and Modules\n",
    "- The project uses core libraries like `pandas`, `numpy`, and `matplotlib` for data manipulation and visualization.\n",
    "- Custom functions are organized into Python modules located in the `my_module/` directory:\n",
    "  - `data_processing.py`: Handles dataset generation and loading.\n",
    "  - `analysis.py`: Contains functions to calculate randomness metrics and combination.\n",
    "  - `visualization.py`: Plots distributions.\n",
    "  - `testing.py`: Performs statistical tests like Chi-Square.\n"
   ]
  },
  {
   "cell_type": "markdown",
   "id": "3726db90-4a30-45af-a1ed-cc35f7af7a6c",
   "metadata": {},
   "source": [
    "### Dataset Overview\n",
    "\n",
    "The dataset simulates human \"random guesses\" with 300 rows, generated using the `generate_random_dataset` function. It consists of the following columns:\n",
    "- **response**: Random guesses between 1 and 10, weighted to simulate human bias.\n",
    "- **category**: Randomly assigned categories (A, B, C, or D).\n",
    "- **timestamp**: Timestamps at one-minute intervals starting from `2024-01-01`.\n",
    "\n",
    "The dataset is saved as `data/random_guess.csv` and loaded into a Pandas DataFrame for analysis.\n"
   ]
  },
  {
   "cell_type": "code",
   "execution_count": 2,
   "id": "41e56d0e-795c-4615-bcea-80be28d55f41",
   "metadata": {},
   "outputs": [
    {
     "name": "stdout",
     "output_type": "stream",
     "text": [
      "Dataset saved to: data/random_guess.csv\n",
      "Loaded dataset from: data/random_guess.csv\n",
      "Preview:\n",
      "   response category            timestamp\n",
      "0         4        A  2024-01-01 00:00:00\n",
      "1        10        D  2024-01-01 00:01:00\n",
      "2         7        D  2024-01-01 00:02:00\n",
      "3         5        B  2024-01-01 00:03:00\n",
      "4         2        C  2024-01-01 00:04:00\n",
      "Dataset Preview:\n",
      "   response category            timestamp\n",
      "0         4        A  2024-01-01 00:00:00\n",
      "1        10        D  2024-01-01 00:01:00\n",
      "2         7        D  2024-01-01 00:02:00\n",
      "3         5        B  2024-01-01 00:03:00\n",
      "4         2        C  2024-01-01 00:04:00\n"
     ]
    }
   ],
   "source": [
    "# Generate a new dataset and save it to the 'data' folder\n",
    "generate_random_dataset(\"data/random_guess.csv\")\n",
    "\n",
    "# Load the dataset into a DataFrame\n",
    "df = load_dataset(\"data/random_guess.csv\")\n",
    "\n",
    "# Display the first few rows of the dataset\n",
    "print(\"Dataset Preview:\")\n",
    "print(df.head())\n"
   ]
  },
  {
   "cell_type": "markdown",
   "id": "74c030f0-4790-43f5-84f1-7aef53c05a5c",
   "metadata": {},
   "source": [
    "**Note**: The shorthand `'T'` for time frequency in Pandas is deprecated. It has been replaced with `'min'` to ensure compatibility with future versions."
   ]
  },
  {
   "cell_type": "markdown",
   "id": "88b658c5-fc91-4896-a5a8-d37c1d2eb6d2",
   "metadata": {},
   "source": [
    "### 2. Analysis\n",
    "\n",
    "In this section, we calculate randomness metrics for the \"response\" column, including:\n",
    "- **Number of unique responses**: Total distinct values guessed.\n",
    "- **Most common response**: The response with the highest frequency.\n",
    "- **Proportion of unique responses**: Fraction of unique responses in the dataset.\n"
   ]
  },
  {
   "cell_type": "code",
   "execution_count": 3,
   "id": "3a816bdb-364d-49bd-af84-1b46b343191d",
   "metadata": {},
   "outputs": [
    {
     "name": "stdout",
     "output_type": "stream",
     "text": [
      "Randomness Metrics:\n",
      "num_unique: 10\n",
      "num_total: 300\n",
      "proportion_unique: 0.03333333333333333\n",
      "most_common: 5\n",
      "count_most_common: 48\n"
     ]
    }
   ],
   "source": [
    "# Calculate randomness metrics for the 'response' column\n",
    "metrics = calculate_metrics(df, 'response')\n",
    "\n",
    "# Display the calculated metrics\n",
    "print(\"Randomness Metrics:\")\n",
    "for key, value in metrics.items():\n",
    "    print(key + \": \" + str(value))\n"
   ]
  },
  {
   "cell_type": "markdown",
   "id": "cff713c4-2d00-4bff-a8f9-b2cd5b0700fe",
   "metadata": {},
   "source": [
    "### 3. Visualization\n",
    "\n",
    "This section visualizes the distribution of responses using a histogram. The visualization helps identify whether some numbers are guessed more frequently than others."
   ]
  },
  {
   "cell_type": "code",
   "execution_count": 4,
   "id": "657aea75-d893-408b-9b69-3a2feb3d86d3",
   "metadata": {},
   "outputs": [
    {
     "data": {
      "image/png": "[encoded data removed]",
      "text/plain": [
       "<Figure size 1000x600 with 1 Axes>"
      ]
     },
     "metadata": {},
     "output_type": "display_data"
    }
   ],
   "source": [
    "# Plot the distribution of responses\n",
    "plot_response_distribution(df)"
   ]
  },
  {
   "cell_type": "markdown",
   "id": "3c40aaa6-a759-44df-99ca-8c658c44e668",
   "metadata": {},
   "source": [
    "### 4. Statistical Testing\n",
    "\n",
    "A Chi-Square test is conducted to evaluate whether the observed response distribution significantly deviates from a uniform random distribution."
   ]
  },
  {
   "cell_type": "code",
   "execution_count": 5,
   "id": "d00b2f30-608f-4f7a-8037-c5bd07f9b4c4",
   "metadata": {},
   "outputs": [
    {
     "name": "stdout",
     "output_type": "stream",
     "text": [
      "Chi-Square Test Results:\n",
      "Chi-Square Statistic: 44.86666666666667\n",
      "P-value: 9.765589454414055e-07\n"
     ]
    }
   ],
   "source": [
    "# Perform a Chi-Square test on the 'response' column\n",
    "chi2, p_value = perform_chi_square_test(df, 'response')\n",
    "\n",
    "# Display the test results\n",
    "print(\"Chi-Square Test Results:\")\n",
    "print(\"Chi-Square Statistic: \" + str(chi2))\n",
    "print(\"P-value: \" + str(p_value))\n"
   ]
  },
  {
   "cell_type": "markdown",
   "id": "5317a7e2-22e1-44cb-b6f1-79f752c9d1fe",
   "metadata": {},
   "source": [
    "### 5. Conclusions\n",
    "\n",
    "- The dataset analysis reveals that human \"random guesses\" are biased toward certain numbers, such as 5.\n",
    "- Clustering grouped responses into distinct patterns, showing a tendency toward non-random behavior.\n",
    "- The Chi-Square test confirmed that the observed responses significantly deviate from expected random frequencies.\n",
    "\n",
    "---\n",
    "\n",
    "#### **Results**\n",
    "- **Bias in Randomness**: The analysis revealed that human \"random guesses\" are biased toward specific numbers, such as 5, rather than being  random.\n",
    "- **Patterns in Responses**: Combined responses converted into patterns, highlight that humans tend to exhibit predictable guesses even when attempting to act randomly.\n",
    "- **Statistical Deviation**: The Chi-Square test confirmed that the observed responses significantly deviate from the expected random distribution, indicating non-random behavior.\n",
    "\n",
    "---\n",
    "\n",
    "#### **Learnings**\n",
    "Throughout this project, I applied multiple key concepts covered in the course and extended my learning in several areas:\n",
    "1. **Programming Concepts Demonstrated**:\n",
    "   - **Modular Code**: I organized the project into reusable modules (`data_processing.py`, `analysis.py`, `visualization.py`, and `testing.py`), showed the importance of writing modular and maintainable code.\n",
    "   - **Docstrings and Documentation**: Each function and module includes detailed docstrings following correct code practices, ensuring clarity .\n",
    "   - **Testing with pytest**: By writing test cases for the custom functions, I ensured that the code works as expected under various conditions.\n",
    "   - **Visualization Techniques**: I used `matplotlib` to create charts that visually represent data patterns.\n",
    "\n",
    "2. **New Concepts Explored**:\n",
    "   - **Clustering**: I expanded my understanding of combining techniques (e.g., K-Means) to group similar data points and identify patterns.\n",
    "   - **Chi-Square Test**: While statistical testing was briefly touched on in the course, I deepened my knowledge of the Chi-Square test to evaluate randomness and interpret p-values.\n",
    "\n",
    "3. **Problem-Solving Skills**:\n",
    "   - Debugging errors (e.g., addressing the deprecation warning for Pandas `freq=\"T\"`).\n",
    "   - Working with simulated data and creating a framwork to analyze and visualize it step by step.\n",
    "\n",
    "---\n",
    "\n",
    "#### **Future Work**\n",
    "This project has opened up opportunities for further exploration. Future directions include:\n",
    "- **Working with Real-World Data**: Experimenting with datasets collected from actual user responses to validate the findings and see if biases exists across larger, diverse populations.\n",
    "- **Advanced Statistical Models**: Exploring additional statistical techniques, such as Kolmogorov-Smirnov tests or regression models, to analyze randomness and predict patterns in human behavior.\n",
    "- **Interactive Visualizations**: Enhancing visualizations using tools like `plotly` or `dash` to create dynamic and interactive charts for better interpretation of results.\n",
    "\n",
    "---\n",
    "#### **Acknowledgments**:  \n",
    "This project was inspired by concepts taught in the Python programming and data analysis course. I also referred to several resources to expand my understanding and troubleshoot issues:\n",
    "- **ChatGPT**: For brainstorming and refining ideas.  \n",
    "- **Geeks for Geeks**: For understanding matplotlib plots and numpy functions.  \n",
    "- **Kaggle**: For exploring dataset structure and creation methods.  \n",
    "- **Python Documentation**: For detailed information on numpy, pandas, and matplotlib libraries.  \n",
    "- **Stack Overflow**: For debugging and code improvement tips.\n",
    "\n",
    "---\n",
    "\n",
    "#### **Reflection**\n",
    "This project allowed me to integrate various skills learned throughout the course and go beyond the syllabus by exploring clustering and advanced testing methods. The modular structure, clear documentation, and practical application of concepts demonstrate my growth in writing clean and reusable Python code. Furthermore, by going into real-world data analysis and visualization techniques, I’ve developed a strong foundation to take on more complex problems in the future.\n",
    "\n",
    "I am proud of what I’ve achieved in this project and excited to continue exploring new techniques in the future!!\n",
    "\n",
    "(My prior coding knowledge includes profieciency in Java, and a bit of python till dictionaries and i've learnt a ton during this project as highlighted in above section)\n"
   ]
  },
  {
   "cell_type": "code",
   "execution_count": null,
   "id": "6516fd68-6ef5-4837-af4e-e640d8bb7876",
   "metadata": {},
   "outputs": [],
   "source": []
  }
 ],
 "metadata": {
  "kernelspec": {
   "display_name": "Python 3 (ipykernel)",
   "language": "python",
   "name": "python3"
  },
  "language_info": {
   "codemirror_mode": {
    "name": "ipython",
    "version": 3
   },
   "file_extension": ".py",
   "mimetype": "text/x-python",
   "name": "python",
   "nbconvert_exporter": "python",
   "pygments_lexer": "ipython3",
   "version": "3.11.9"
  }
 },
 "nbformat": 4,
 "nbformat_minor": 5
}
